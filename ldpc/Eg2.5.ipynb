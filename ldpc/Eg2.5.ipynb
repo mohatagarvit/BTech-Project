{
 "cells": [
  {
   "cell_type": "code",
   "execution_count": 1,
   "metadata": {},
   "outputs": [],
   "source": [
    "import numpy as np\n",
    "import random\n",
    "import math\n",
    "# import matplotlib.pyplot as plt"
   ]
  },
  {
   "cell_type": "code",
   "execution_count": 21,
   "metadata": {},
   "outputs": [],
   "source": [
    "H = np.array([[1, 1, 0, 1, 0, 0], \n",
    "              [0, 1, 1, 0, 1, 0], \n",
    "              [1, 0, 0, 0, 1, 1], \n",
    "              [0, 0, 1, 1, 0, 1]])\n"
   ]
  },
  {
   "cell_type": "code",
   "execution_count": 48,
   "metadata": {},
   "outputs": [
    {
     "name": "stdout",
     "output_type": "stream",
     "text": [
      "Switching Probability: 0.2\n",
      "Transmitted Signal: [0 0 1 0 1 1]\n",
      "Received Signal: [1 0 1 0 1 1]\n",
      "Log-likelihood: 1.3862943611198906\n",
      "a priori log likelihood ratios: [-1.38629436  1.38629436 -1.38629436  1.38629436 -1.38629436 -1.38629436]\n"
     ]
    }
   ],
   "source": [
    "## Signal Parameters\n",
    "\n",
    "c = np.array([0, 0, 1, 0, 1, 1])\n",
    "y = np.array([1, 0, 1, 0, 1, 1])\n",
    "p = 0.2\n",
    "L0 = (1-p)/p  #y=0\n",
    "L1 = p/(1-p)  #y=1\n",
    "lnL0 = math.log(L0)\n",
    "lnL1 = math.log(L1)\n",
    "r = (2*y-1)*lnL1 \n",
    "\n",
    "print(\"Switching Probability:\", p)\n",
    "print(\"Transmitted Signal:\", c)\n",
    "print(\"Received Signal:\", y)\n",
    "print(\"Log-likelihood:\", lnL0)\n",
    "print(\"a priori log likelihood ratios:\", r)"
   ]
  },
  {
   "cell_type": "code",
   "execution_count": 49,
   "metadata": {},
   "outputs": [],
   "source": [
    "msg_node = 6 # bit_node\n",
    "chk_node = 4 # parity node\n",
    "\n",
    "## Iteration parameters\n",
    "max_iter = 3\n",
    "curr_iter = 0"
   ]
  },
  {
   "cell_type": "code",
   "execution_count": 50,
   "metadata": {
    "scrolled": true
   },
   "outputs": [
    {
     "name": "stdout",
     "output_type": "stream",
     "text": [
      "[[-1.38629436  1.38629436 -0.          1.38629436 -0.         -0.        ]\n",
      " [-0.          1.38629436 -1.38629436  0.         -1.38629436 -0.        ]\n",
      " [-1.38629436  0.         -0.          0.         -1.38629436 -1.38629436]\n",
      " [-0.          0.         -1.38629436  1.38629436 -0.         -1.38629436]]\n"
     ]
    }
   ],
   "source": [
    "# message from bit node to chk node\n",
    "M = np.zeros([4,6])\n",
    "\n",
    "# message from chk node to bit node\n",
    "E = np.zeros([4,6])\n",
    "\n",
    "L = np.zeros(r.shape)\n",
    "z = np.zeros(r.shape)\n",
    "\n",
    "# for j in range(chk_node):\n",
    "for i in range(msg_node):\n",
    "    M[:,i] = H[:,i] * r[i]\n",
    "       \n",
    "# for j in range(chk_node):\n",
    "#     for i in range(msg_node):\n",
    "#         M[j,i] = H[j,i] * r[i]\n",
    "#         # vectorize\n",
    "print(M)\n",
    "\n",
    "# Is vectorization computationally expensive for sparse matrices?"
   ]
  },
  {
   "cell_type": "code",
   "execution_count": 54,
   "metadata": {},
   "outputs": [
    {
     "name": "stdout",
     "output_type": "stream",
     "text": [
      "[[-0.6  0.6 -0.   0.6 -0.  -0. ]\n",
      " [-0.   0.6 -0.6  0.  -0.6 -0. ]\n",
      " [-0.6  0.  -0.   0.  -0.6 -0.6]\n",
      " [-0.   0.  -0.6  0.6 -0.  -0.6]]\n",
      "[ 4.64388006  1.38629436 -7.41646878  1.38629436 -1.38629436 -1.38629436]\n",
      "[0 0 1 0 1 1]\n",
      "0 [0 0 0 0]\n",
      "break\n",
      "[[ 0.7537718 -0.7537718  0.        -0.7537718  0.         0.       ]\n",
      " [ 0.         0.7537718 -0.7537718  0.        -0.7537718  0.       ]\n",
      " [ 0.7537718  0.         0.         0.         0.7537718  0.7537718]\n",
      " [ 0.         0.        -0.7537718  0.7537718  0.        -0.7537718]]\n",
      "[0.7537718 0.        0.7537718 0.       ]\n"
     ]
    }
   ],
   "source": [
    "while True:\n",
    "tanhM = np.tanh(M/2)\n",
    "    for j in range(chk_node):\n",
    "        t = 1\n",
    "        for i in range(msg_node):\n",
    "            if H[j,i]:\n",
    "                t *= tanhM[j,i]\n",
    "        \n",
    "        # modify for sparse matrices \n",
    "        # store indices in hashmap for quick access\n",
    "        for i in range(msg_node):\n",
    "            if H[j,i]:\n",
    "                prod_tanhM = t/tanhM[j,i]\n",
    "                E[j,i] = np.log((1 + prod_tanhM)/(1 - prod_tanhM))\n",
    "            else:\n",
    "                E[j,i] = 0\n",
    "        \n",
    "    for i in range(msg_node):\n",
    "        L[i] = r[i] + np.sum(E[:,i])\n",
    "        z[i] = 0 if L[i]>0 else 1\n",
    "#     z = [0 if L[i]>0 else 1 for i in range(msg_node)]\n",
    "    \n",
    "    if curr_iter < max_iter or np.all(np.dot(H,z)%2==0):\n",
    "        break\n",
    "    else:\n",
    "        for i in range(msg_node):\n",
    "            t = np.sum(E[:,i])\n",
    "            for j in range(chk_node):\n",
    "                if H[j,i]==0:\n",
    "                    M[j,i] = (t - E[j,i]) + r[i]\n",
    "    \n",
    "    curr_iter += 1\n",
    "\n",
    "print(\"No of iterations run :\", curr_iter)\n",
    "print(\"tanhM values:\", tanhM)\n",
    "print(\"log-likelihood values :\", L)\n",
    "print(\"Decoded Signal :\", z)\n",
    "print(E)\n"
   ]
  }
 ],
 "metadata": {
  "kernelspec": {
   "display_name": "Python 3",
   "language": "python",
   "name": "python3"
  },
  "language_info": {
   "codemirror_mode": {
    "name": "ipython",
    "version": 3
   },
   "file_extension": ".py",
   "mimetype": "text/x-python",
   "name": "python",
   "nbconvert_exporter": "python",
   "pygments_lexer": "ipython3",
   "version": "3.7.7"
  }
 },
 "nbformat": 4,
 "nbformat_minor": 4
}
