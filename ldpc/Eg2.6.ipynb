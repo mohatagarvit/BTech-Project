{
 "cells": [
  {
   "cell_type": "code",
   "execution_count": 1,
   "metadata": {},
   "outputs": [],
   "source": [
    "import numpy as np\n",
    "import random\n",
    "import math\n",
    "# import matplotlib.pyplot as plt"
   ]
  },
  {
   "cell_type": "code",
   "execution_count": 2,
   "metadata": {},
   "outputs": [],
   "source": [
    "H = np.array([[1, 1, 0, 1, 0, 0], \n",
    "              [0, 1, 1, 0, 1, 0], \n",
    "              [1, 0, 0, 0, 1, 1], \n",
    "              [0, 0, 1, 1, 0, 1]])\n"
   ]
  },
  {
   "cell_type": "code",
   "execution_count": 3,
   "metadata": {},
   "outputs": [
    {
     "name": "stdout",
     "output_type": "stream",
     "text": [
      "0.9691001300805642\n",
      "[-0.5  2.5 -4.   5.  -3.5  2.5]\n"
     ]
    }
   ],
   "source": [
    "## Signal Parameters\n",
    "\n",
    "c = np.array([0, 0, 1, 0, 1, 1])\n",
    "y = np.array([-0.1, 0.5, -0.8, 1, -0.7, 0.5])\n",
    "k = 1.25 # Es/N0\n",
    "SNR = 10*np.log10(k)\n",
    "r = 4*y*k\n",
    "\n",
    "print(SNR)\n",
    "print(r)\n",
    "\n",
   ]
  },
  {
   "cell_type": "code",
   "execution_count": 4,
   "metadata": {},
   "outputs": [],
   "source": [
    "msg_node = 6 # bit_node\n",
    "chk_node = 4 # parity node"
   ]
  },
  {
   "cell_type": "code",
   "execution_count": 5,
   "metadata": {
    "scrolled": true
   },
   "outputs": [
    {
     "name": "stdout",
     "output_type": "stream",
     "text": [
      "[[-0.5  2.5 -0.   5.  -0.   0. ]\n",
      " [-0.   2.5 -4.   0.  -3.5  0. ]\n",
      " [-0.5  0.  -0.   0.  -3.5  2.5]\n",
      " [-0.   0.  -4.   5.  -0.   2.5]]\n"
     ]
    }
   ],
   "source": [
    "## Iteration parameters\n",
    "max_iter = 3\n",
    "curr_iter = 0\n",
    "\n",
    "# message from bit node to chk node\n",
    "M = np.zeros([4,6])\n",
    "\n",
    "# message from chk node to bit node\n",
    "E = np.zeros([4,6])\n",
    "\n",
    "L = np.zeros(r.shape)\n",
    "z = np.zeros(r.shape)\n",
    "\n",
    "# for j in range(chk_node):\n",
    "for i in range(msg_node):\n",
    "    M[:,i] = H[:,i] * r[i]\n",
    "       \n",
    "# for j in range(chk_node):\n",
    "#     for i in range(msg_node):\n",
    "#         M[j,i] = H[j,i] * r[i]\n",
    "#         # vectorize\n",
    "print(M)\n",
    "\n",
    "# Is vectorization computationally expensive for sparse matrices?"
   ]
  },
  {
   "cell_type": "code",
   "execution_count": 6,
   "metadata": {},
   "outputs": [
    {
     "name": "stdout",
     "output_type": "stream",
     "text": [
      "No of iterations run : 3\n",
      "tanhM values: [[ 0.32654605  0.96369903 -0.          0.775811   -0.          0.        ]\n",
      " [-0.          0.24211699 -0.54142612  0.         -0.97423165  0.        ]\n",
      " [ 0.7899598   0.         -0.          0.         -0.98017633 -0.73893966]\n",
      " [-0.          0.         -0.99438215  0.82862251 -0.          0.29056485]]\n",
      "log-likelihood values : [ 3.26842857  4.19123228 -3.9896299   5.0566873  -5.09990637 -1.90005437]\n",
      "Decoded Signal : [0. 0. 1. 0. 1. 1.]\n",
      "Hz.T [ True  True  True  True]\n",
      "[[ 1.93520259  0.5179531   0.          0.65148957  0.          0.        ]\n",
      " [ 0.          1.17327918 -0.48080954  0.         -0.26369437  0.        ]\n",
      " [ 1.83322598  0.          0.          0.         -1.336212   -2.06195407]\n",
      " [ 0.          0.          0.49117965 -0.59480227  0.         -2.3381003 ]]\n"
     ]
    }
   ],
   "source": [
    "while True:\n",
    "    curr_iter += 1\n",
    "    tanhM = np.tanh(M/2)\n",
    "    for j in range(chk_node):\n",
    "        t = 1\n",
    "        for i in range(msg_node):\n",
    "            if H[j,i]:\n",
    "                t *= tanhM[j,i]\n",
    "        \n",
    "        # modify for sparse matrices \n",
    "        # store indices in hashmap for quick access\n",
    "        for i in range(msg_node):\n",
    "            if H[j,i]:\n",
    "                prod_tanhM = t/tanhM[j,i]\n",
    "                E[j,i] = np.log((1 + prod_tanhM)/(1 - prod_tanhM))\n",
    "            else:\n",
    "                E[j,i] = 0\n",
    "        \n",
    "    for i in range(msg_node):\n",
    "        L[i] = r[i] + np.sum(E[:,i])\n",
    "        z[i] = 0 if L[i]>0 else 1\n",
    "#     z = [0 if L[i]>0 else 1 for i in range(msg_node)]\n",
    "    \n",
    "    \n",
    "    if curr_iter >= max_iter or np.all(np.dot(H,z)%2==0):\n",
    "        break\n",
    "    else:\n",
    "        for i in range(msg_node):\n",
    "            t = np.sum(E[:,i])\n",
    "            for j in range(chk_node):\n",
    "                if H[j,i]:\n",
    "                    M[j,i] = (t - E[j,i]) + r[i]\n",
    "\n",
    "                    \n",
    "print(\"No of iterations run :\", curr_iter)\n",
    "print(\"tanhM values:\", tanhM)\n",
    "print(\"log-likelihood values :\", L)\n",
    "print(\"Decoded Signal :\", z)\n",
    "print(\"Hz.T\", np.dot(H,z)%2==0)\n",
    "print(E)\n"
   ]
  },
  {
   "cell_type": "code",
   "execution_count": null,
   "metadata": {},
   "outputs": [],
   "source": []
  },
  {
   "cell_type": "code",
   "execution_count": null,
   "metadata": {},
   "outputs": [],
   "source": []
  }
 ],
 "metadata": {
  "kernelspec": {
   "display_name": "Python 3",
   "language": "python",
   "name": "python3"
  },
  "language_info": {
   "codemirror_mode": {
    "name": "ipython",
    "version": 3
   },
   "file_extension": ".py",
   "mimetype": "text/x-python",
   "name": "python",
   "nbconvert_exporter": "python",
   "pygments_lexer": "ipython3",
   "version": "3.7.7"
  }
 },
 "nbformat": 4,
 "nbformat_minor": 4
}
