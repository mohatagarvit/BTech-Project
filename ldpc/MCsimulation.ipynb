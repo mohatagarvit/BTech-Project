{
 "cells": [
  {
   "cell_type": "code",
   "execution_count": 1,
   "metadata": {},
   "outputs": [],
   "source": [
    "import numpy as np\n",
    "import random\n",
    "import math\n",
    "import matplotlib.pyplot as plt"
   ]
  },
  {
   "cell_type": "code",
   "execution_count": 2,
   "metadata": {},
   "outputs": [
    {
     "name": "stdout",
     "output_type": "stream",
     "text": [
      "[0, 2, 4, 6, 8, 10, 12, 14, 16, 18]\n"
     ]
    }
   ],
   "source": [
    "H = np.array([[1, 1, 0, 1, 0, 0], \n",
    "              [0, 1, 1, 0, 1, 0], \n",
    "              [1, 0, 0, 0, 1, 1], \n",
    "              [0, 0, 1, 1, 0, 1]])\n",
    "n = 1440000\n",
    "\n",
    "SNR = list(range(0,20,2))\n",
    "\n",
    "print(SNR)  "
   ]
  },
  {
   "cell_type": "markdown",
   "metadata": {},
   "source": [
    "## Generate Input/Transmission bits"
   ]
  },
  {
   "cell_type": "code",
   "execution_count": 3,
   "metadata": {},
   "outputs": [
    {
     "name": "stdout",
     "output_type": "stream",
     "text": [
      "No. of 6-bit signals sent: 240000\n"
     ]
    }
   ],
   "source": [
    "n1 = n//6\n",
    "c = np.zeros((n1, 6))\n",
    "i = 0\n",
    "\n",
    "while i<n1:\n",
    "\n",
    "    # random input generator\n",
    "    randBinList = lambda n: [random.randint(0,1) for b in range(1,n+1)]\n",
    "    strin = randBinList(n)\n",
    "    \n",
    "    inbits = np.array([int(num) for num in strin]).reshape((n1,6)) #kx6\n",
    "    temp = np.sum(np.matmul(H, inbits.transpose())%2, axis=0)\n",
    "\n",
    "    for j in range(temp.shape[0]):\n",
    "        if temp[j]==0:\n",
    "            c[i] = inbits[j]\n",
    "            i += 1\n",
    "            if i >= n1:\n",
    "                break\n",
    "\n",
    "assert(np.sum(np.matmul(H,c.transpose())%2)==0)\n",
    "print(\"No. of 6-bit signals sent:\", c.shape[0])"
   ]
  },
  {
   "cell_type": "code",
   "execution_count": 4,
   "metadata": {},
   "outputs": [],
   "source": [
    "msg_node = 6 # bit_node\n",
    "chk_node = 4 # parity node\n",
    "\n",
    "## Iteration parameters\n",
    "max_iter = 5"
   ]
  },
  {
   "cell_type": "markdown",
   "metadata": {},
   "source": [
    "## Monte Carlo Simulations - I\n",
    "- maps transmitted signal value to bit"
   ]
  },
  {
   "cell_type": "code",
   "execution_count": null,
   "metadata": {},
   "outputs": [],
   "source": [
    "## equations in use\n",
    "\n",
    "# k = Es/N0\n",
    "# N0 = 2*(sigma**2)\n",
    "# r = 4*y*Es/N0   #where y = (2*y[w]-1)\n",
    "# SNR = 10*np.log10(k)\n",
    "        "
   ]
  },
  {
   "cell_type": "code",
   "execution_count": 6,
   "metadata": {},
   "outputs": [
    {
     "name": "stderr",
     "output_type": "stream",
     "text": [
      "/Users/i511980/miniconda3/envs/ml/lib/python3.7/site-packages/ipykernel_launcher.py:50: RuntimeWarning: divide by zero encountered in log\n",
      "/Users/i511980/miniconda3/envs/ml/lib/python3.7/site-packages/ipykernel_launcher.py:50: RuntimeWarning: divide by zero encountered in double_scalars\n",
      "/Users/i511980/miniconda3/envs/ml/lib/python3.7/site-packages/numpy/core/fromnumeric.py:87: RuntimeWarning: invalid value encountered in reduce\n",
      "  return ufunc.reduce(obj, axis, dtype, out, **passkwargs)\n"
     ]
    }
   ],
   "source": [
    "error = [0]*len(SNR)\n",
    "s = 2*c - 1\n",
    "\n",
    "for l in range(len(SNR)):\n",
    "    sigma = 10**(-SNR[l]/20)\n",
    "    randNoiseBinList = lambda n: [random.gauss(0,sigma) for b in range(1,n+1)]\n",
    "    noise = np.array([num for num in randNoiseBinList(n)]).reshape((n//6,6)) #kx6\n",
    "    y = s + noise  #6xk\n",
    "    \n",
    "    # bpsk mapping converting -ve bits to 0 and +ve to 1\n",
    "    y = y > 0 \n",
    "\n",
    "    # convert decimal form to int\n",
    "    y = np.int64(y)\n",
    "    k = 2/(sigma**2)\n",
    "    \n",
    "    for w in range(c.shape[0]):\n",
    "\n",
    "        r = 2*(2*y[w]-1)/(sigma**2)  # -1,1 mapping\n",
    "    \n",
    "        # message from bit node to chk node\n",
    "        M = np.zeros([4,6])\n",
    "\n",
    "        # message from chk node to bit node\n",
    "        E = np.zeros([4,6])\n",
    "\n",
    "        L = np.zeros(r.shape)\n",
    "        z = np.zeros(r.shape)\n",
    "\n",
    "        # for j in range(chk_node):\n",
    "        for i in range(msg_node):\n",
    "            M[:,i] = H[:,i] * r[i]\n",
    "       \n",
    "\n",
    "        curr_iter = 0\n",
    "        while True:\n",
    "            curr_iter += 1\n",
    "            tanhM = np.tanh(M/2)\n",
    "            for j in range(chk_node):\n",
    "                t = 1\n",
    "                for i in range(msg_node):\n",
    "                    if H[j,i]:\n",
    "                        t *= tanhM[j,i]\n",
    "\n",
    "                # modify for sparse matrices \n",
    "                # store indices in hashmap for quick access\n",
    "                for i in range(msg_node):\n",
    "                    if H[j,i]:\n",
    "                        prod_tanhM = t/tanhM[j,i]\n",
    "                        E[j,i] = np.log((1 + prod_tanhM)/(1 - prod_tanhM))\n",
    "                    else:\n",
    "                        E[j,i] = 0\n",
    "\n",
    "            for i in range(msg_node):\n",
    "                L[i] = r[i] + np.sum(E[:,i])\n",
    "                z[i] = 0 if L[i]>0 else 1\n",
    "        #     z = [0 if L[i]>0 else 1 for i in range(msg_node)]\n",
    "\n",
    "\n",
    "            if curr_iter >= max_iter or np.all(np.dot(H,z)%2==0):\n",
    "                break\n",
    "            else:\n",
    "                for i in range(msg_node):\n",
    "                    t = np.sum(E[:,i])\n",
    "                    for j in range(chk_node):\n",
    "                        if H[j,i]:\n",
    "                            M[j,i] = (t - E[j,i]) + r[i]\n",
    "        error[l] = error[l] + np.sum(np.sum(abs(z-c[w])))\n",
    "    "
   ]
  },
  {
   "cell_type": "code",
   "execution_count": 7,
   "metadata": {},
   "outputs": [
    {
     "name": "stdout",
     "output_type": "stream",
     "text": [
      "No. of error bits: [576585.0, 440645.0, 274794.0, 122374.0, 34479.0, 4489.0, 192.0, 4.0, 0.0, 0.0]\n",
      "BPSK bit error rate [ -3.97499152  -5.14273646  -7.19355246 -10.70673336 -16.20807831\n",
      " -25.06212887 -38.75061263 -55.56302501         -inf         -inf]\n",
      "SNR : [0, 2, 4, 6, 8, 10, 12, 14, 16, 18]\n"
     ]
    },
    {
     "name": "stderr",
     "output_type": "stream",
     "text": [
      "/Users/i511980/miniconda3/envs/ml/lib/python3.7/site-packages/ipykernel_launcher.py:3: RuntimeWarning: divide by zero encountered in log10\n",
      "  This is separate from the ipykernel package so we can avoid doing imports until\n"
     ]
    },
    {
     "data": {
      "image/png": "[encoded data removed]",
      "text/plain": [
       "<Figure size 432x288 with 1 Axes>"
      ]
     },
     "metadata": {
      "needs_background": "light"
     },
     "output_type": "display_data"
    }
   ],
   "source": [
    "print(\"No. of error bits:\", error)\n",
    "error = np.divide(error,n)\n",
    "error = 10*np.log10(error)\n",
    "print(\"BPSK bit error rate\", error)\n",
    "print(\"SNR :\", SNR)\n",
    " \n",
    "# plotting the points \n",
    "plt.plot(SNR, error)\n",
    " \n",
    "plt.xlabel('SNR (in dB)')     \n",
    "plt.ylabel('BER (Bit Error Rate)')\n",
    "plt.title('BER vs SNR')\n",
    " \n",
    "plt.show()"
   ]
  },
  {
   "cell_type": "markdown",
   "metadata": {},
   "source": [
    "## Monte Carlo Simulations - II\n",
    "- Since we are transmitting bits over a AWGN noisy channel, the received bits are no more bits because of the Gaussian nature of noise. \n",
    "- This MC Simulation lets the transmitted signal be a float instead of mapping it to a bit.\n",
    "- Again, this is intuitively wrong, as we are changing the nature of transmission channel by transmitting float values in place of bits. And hence we get a curve that is not as smooth as the one obtained above."
   ]
  },
  {
   "cell_type": "code",
   "execution_count": 8,
   "metadata": {},
   "outputs": [
    {
     "name": "stderr",
     "output_type": "stream",
     "text": [
      "/Users/i511980/miniconda3/envs/ml/lib/python3.7/site-packages/ipykernel_launcher.py:44: RuntimeWarning: divide by zero encountered in log\n",
      "/Users/i511980/miniconda3/envs/ml/lib/python3.7/site-packages/ipykernel_launcher.py:44: RuntimeWarning: divide by zero encountered in double_scalars\n",
      "/Users/i511980/miniconda3/envs/ml/lib/python3.7/site-packages/ipykernel_launcher.py:61: RuntimeWarning: invalid value encountered in double_scalars\n"
     ]
    }
   ],
   "source": [
    "error = [0]*len(SNR)\n",
    "s = 2*c - 1\n",
    "\n",
    "for l in range(len(SNR)):\n",
    "    sigma = 10**(-SNR[l]/20)\n",
    "    randNoiseBinList = lambda n: [random.gauss(0,sigma) for b in range(1,n+1)]\n",
    "    noise = np.array([num for num in randNoiseBinList(n)]).reshape((n//6,6)) #kx6\n",
    "    y = s + noise  #6xk\n",
    "    \n",
    "    k = 2/(sigma**2)\n",
    "    \n",
    "    for w in range(c.shape[0]):\n",
    "        r = 2*y[w]/(sigma**2)  \n",
    "        \n",
    "        # message from bit node to chk node\n",
    "        M = np.zeros([4,6])\n",
    "\n",
    "        # message from chk node to bit node\n",
    "        E = np.zeros([4,6])\n",
    "\n",
    "        L = np.zeros(r.shape)\n",
    "        z = np.zeros(r.shape)\n",
    "\n",
    "        # for j in range(chk_node):\n",
    "        for i in range(msg_node):\n",
    "            M[:,i] = H[:,i] * r[i]\n",
    "       \n",
    "\n",
    "        curr_iter = 0\n",
    "        while True:\n",
    "            curr_iter += 1\n",
    "            tanhM = np.tanh(M/2)\n",
    "            for j in range(chk_node):\n",
    "                t = 1\n",
    "                for i in range(msg_node):\n",
    "                    if H[j,i]:\n",
    "                        t *= tanhM[j,i]\n",
    "\n",
    "                # modify for sparse matrices \n",
    "                # store indices in hashmap for quick access\n",
    "                for i in range(msg_node):\n",
    "                    if H[j,i]:\n",
    "                        prod_tanhM = t/tanhM[j,i]\n",
    "                        E[j,i] = np.log((1 + prod_tanhM)/(1 - prod_tanhM))\n",
    "                    else:\n",
    "                        E[j,i] = 0\n",
    "\n",
    "            for i in range(msg_node):\n",
    "                L[i] = r[i] + np.sum(E[:,i])\n",
    "                z[i] = 0 if L[i]>0 else 1\n",
    "        #     z = [0 if L[i]>0 else 1 for i in range(msg_node)]\n",
    "\n",
    "\n",
    "            if curr_iter >= max_iter or np.all(np.dot(H,z)%2==0):\n",
    "                break\n",
    "            else:\n",
    "                for i in range(msg_node):\n",
    "                    t = np.sum(E[:,i])\n",
    "                    for j in range(chk_node):\n",
    "                        if H[j,i]:\n",
    "                            M[j,i] = (t - E[j,i]) + r[i]\n",
    "        error[l] = error[l] + np.sum(np.sum(abs(z-c[w])))"
   ]
  },
  {
   "cell_type": "code",
   "execution_count": 9,
   "metadata": {},
   "outputs": [
    {
     "name": "stdout",
     "output_type": "stream",
     "text": [
      "No. of error bits: [878091.0, 853034.0, 793331.0, 681774.0, 510130.0, 302264.0, 114552.0, 14651.0, 3.0, 0.0]\n",
      "BPSK bit error rate [ -2.14822966  -2.27396151  -2.58908067  -3.24722057  -4.50681628\n",
      "  -6.77976067 -10.99359816 -19.92495224 -56.81241237         -inf]\n",
      "SNR : [0, 2, 4, 6, 8, 10, 12, 14, 16, 18]\n"
     ]
    },
    {
     "name": "stderr",
     "output_type": "stream",
     "text": [
      "/Users/i511980/miniconda3/envs/ml/lib/python3.7/site-packages/ipykernel_launcher.py:3: RuntimeWarning: divide by zero encountered in log10\n",
      "  This is separate from the ipykernel package so we can avoid doing imports until\n"
     ]
    },
    {
     "data": {
      "image/png": "[encoded data removed]",
      "text/plain": [
       "<Figure size 432x288 with 1 Axes>"
      ]
     },
     "metadata": {
      "needs_background": "light"
     },
     "output_type": "display_data"
    }
   ],
   "source": [
    "print(\"No. of error bits:\", error)\n",
    "error = np.divide(error,n)\n",
    "error = 10*np.log10(error)\n",
    "print(\"BPSK bit error rate\", error)\n",
    "print(\"SNR :\", SNR)\n",
    " \n",
    "# plotting the points \n",
    "plt.plot(SNR, error)\n",
    " \n",
    "plt.xlabel('SNR (in dB)')\n",
    "plt.ylabel('BER (Bit Error Rate)')\n",
    "plt.title('BER vs SNR')\n",
    " \n",
    "plt.show()"
   ]
  }
 ],
 "metadata": {
  "kernelspec": {
   "display_name": "Python 3",
   "language": "python",
   "name": "python3"
  },
  "language_info": {
   "codemirror_mode": {
    "name": "ipython",
    "version": 3
   },
   "file_extension": ".py",
   "mimetype": "text/x-python",
   "name": "python",
   "nbconvert_exporter": "python",
   "pygments_lexer": "ipython3",
   "version": "3.7.7"
  }
 },
 "nbformat": 4,
 "nbformat_minor": 4
}
