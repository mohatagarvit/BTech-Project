{
 "cells": [
  {
   "cell_type": "code",
   "execution_count": 1,
   "metadata": {},
   "outputs": [],
   "source": [
    "import numpy as np\n",
    "import random\n",
    "import math\n",
    "import matplotlib.pyplot as plt"
   ]
  },
  {
   "cell_type": "markdown",
   "metadata": {},
   "source": [
    "## Variables used\n",
    "- **G** = 7 x4 genertaor matrix obtained particularly for hamming code\n",
    "- **n** = size of input (bits in signal) (taken in multiples of 4)\n",
    "- **randBinList** = random binary generator for n values\n",
    "- **inbits** = 4xk input matrix\n",
    "- **trans** = 7xk transmitted bit matrix\n",
    "- **s** = bpsk modulated to 1 and -1\n",
    "- **y** = received noisy message which initially is bpsk modulated and is later quantized to 0 and 1\n",
    "- **syndrome** = syndromes for finding which bit to flip\n",
    "- **final** = final decoded message"
   ]
  },
  {
   "cell_type": "code",
   "execution_count": 2,
   "metadata": {},
   "outputs": [
    {
     "name": "stdout",
     "output_type": "stream",
     "text": [
      "[0, 2, 4, 6, 8, 10, 12, 14, 16, 18]\n"
     ]
    }
   ],
   "source": [
    "G = np.array([[1, 0, 0, 0], \n",
    "              [0, 1, 0, 0], \n",
    "              [0, 0, 1, 0], \n",
    "              [0, 0, 0, 1], \n",
    "              [1, 1, 1, 0], \n",
    "              [0, 1, 1, 1], \n",
    "              [1, 0, 1, 1]])  # 7x4\n",
    "H = np.array([[1, 1, 1, 0, 1, 0, 0], \n",
    "              [0, 1, 1, 1, 0, 1, 0], \n",
    "              [1, 0, 1, 1, 0, 0, 1]])#3x7\n",
    "n = 4000000\n",
    "SNR = list(range(0,20,2))\n",
    "\n",
    "print(SNR)  "
   ]
  },
  {
   "cell_type": "code",
   "execution_count": 3,
   "metadata": {},
   "outputs": [],
   "source": [
    "# random input generator\n",
    "randBinList = lambda n: [random.randint(0,1) for b in range(1,n+1)]\n",
    "strin = randBinList(n)\n",
    "\n",
    "# print(strin)"
   ]
  },
  {
   "cell_type": "code",
   "execution_count": 4,
   "metadata": {},
   "outputs": [
    {
     "name": "stdout",
     "output_type": "stream",
     "text": [
      "[[0 1 1 ... 0 0 0]\n",
      " [0 0 1 ... 0 0 0]\n",
      " [0 0 0 ... 0 0 1]\n",
      " [1 0 1 ... 1 1 1]]\n"
     ]
    }
   ],
   "source": [
    "n1 = n//4\n",
    "inbits = np.array([int(num) for num in strin]).reshape((n//4,4)).transpose()#4xk\n",
    "\n",
    "print(inbits)"
   ]
  },
  {
   "cell_type": "code",
   "execution_count": 5,
   "metadata": {},
   "outputs": [
    {
     "name": "stdout",
     "output_type": "stream",
     "text": [
      "[[-1  1  1 ... -1 -1 -1]\n",
      " [-1 -1  1 ... -1 -1 -1]\n",
      " [-1 -1 -1 ... -1 -1  1]\n",
      " ...\n",
      " [-1  1 -1 ... -1 -1  1]\n",
      " [ 1 -1 -1 ...  1  1 -1]\n",
      " [ 1  1 -1 ...  1  1 -1]]\n"
     ]
    }
   ],
   "source": [
    "trans = np.matmul(G,inbits)%2  #7xk    #transmitted bits\n",
    "\n",
    "## BPSK modulation to 1 and -1 of the transmitted bits\n",
    "s = 2*trans - 1    #7xk    #mapped to 1 and -1\n",
    "\n",
    "print(s)"
   ]
  },
  {
   "cell_type": "code",
   "execution_count": 6,
   "metadata": {},
   "outputs": [
    {
     "name": "stdout",
     "output_type": "stream",
     "text": [
      "Denoised signal : [[0 1 1 ... 0 0 1]\n",
      " [1 1 0 ... 0 0 1]\n",
      " [1 1 0 ... 0 0 0]\n",
      " ...\n",
      " [1 0 1 ... 0 0 1]\n",
      " [0 0 0 ... 0 1 1]\n",
      " [0 1 1 ... 1 0 1]]\n",
      "[[0 0 0 ... 0 1 1]\n",
      " [1 0 0 ... 1 0 1]\n",
      " [1 1 0 ... 0 0 0]\n",
      " ...\n",
      " [0 0 0 ... 0 1 1]\n",
      " [0 0 0 ... 0 1 1]\n",
      " [0 0 1 ... 1 0 0]]\n",
      "Denoised signal : [[0 1 1 ... 0 0 1]\n",
      " [1 0 0 ... 1 0 1]\n",
      " [1 1 0 ... 0 0 0]\n",
      " ...\n",
      " [0 0 0 ... 0 1 1]\n",
      " [0 0 0 ... 0 1 1]\n",
      " [0 0 1 ... 1 0 0]]\n",
      "[[0 0 0 ... 0 1 1]\n",
      " [1 0 0 ... 1 0 1]\n",
      " [1 1 0 ... 0 0 0]\n",
      " ...\n",
      " [0 0 0 ... 0 1 1]\n",
      " [0 0 0 ... 0 1 1]\n",
      " [0 0 1 ... 1 0 0]]\n",
      "Denoised signal : [[0 0 0 ... 1 1 1]\n",
      " [1 0 0 ... 1 0 1]\n",
      " [1 1 0 ... 0 0 0]\n",
      " ...\n",
      " [0 0 0 ... 0 0 1]\n",
      " [0 0 0 ... 0 1 1]\n",
      " [0 0 1 ... 1 0 0]]\n",
      "[[0 0 0 ... 0 1 1]\n",
      " [1 0 0 ... 1 0 1]\n",
      " [1 1 0 ... 0 0 0]\n",
      " ...\n",
      " [0 0 0 ... 0 1 1]\n",
      " [0 0 0 ... 0 1 1]\n",
      " [0 0 1 ... 1 0 0]]\n",
      "Denoised signal : [[0 0 0 ... 0 1 1]\n",
      " [1 0 0 ... 1 0 1]\n",
      " [1 1 0 ... 0 0 0]\n",
      " ...\n",
      " [0 0 0 ... 0 1 1]\n",
      " [0 0 0 ... 0 1 1]\n",
      " [0 0 1 ... 1 0 0]]\n",
      "[[0 0 0 ... 0 1 1]\n",
      " [1 0 0 ... 1 0 1]\n",
      " [1 1 0 ... 0 0 0]\n",
      " ...\n",
      " [0 0 0 ... 0 1 1]\n",
      " [0 0 0 ... 0 1 1]\n",
      " [0 0 1 ... 1 0 0]]\n",
      "Denoised signal : [[0 0 0 ... 0 1 1]\n",
      " [1 0 0 ... 1 0 1]\n",
      " [1 1 0 ... 0 0 0]\n",
      " ...\n",
      " [0 0 0 ... 0 1 1]\n",
      " [0 0 0 ... 0 1 1]\n",
      " [0 0 1 ... 1 0 0]]\n",
      "[[0 0 0 ... 0 1 1]\n",
      " [1 0 0 ... 1 0 1]\n",
      " [1 1 0 ... 0 0 0]\n",
      " ...\n",
      " [0 0 0 ... 0 1 1]\n",
      " [0 0 0 ... 0 1 1]\n",
      " [0 0 1 ... 1 0 0]]\n",
      "Denoised signal : [[0 0 0 ... 0 1 1]\n",
      " [1 0 0 ... 1 0 1]\n",
      " [1 1 0 ... 0 0 0]\n",
      " ...\n",
      " [0 0 0 ... 0 1 1]\n",
      " [0 0 0 ... 0 1 1]\n",
      " [0 0 1 ... 1 0 0]]\n",
      "[[0 0 0 ... 0 1 1]\n",
      " [1 0 0 ... 1 0 1]\n",
      " [1 1 0 ... 0 0 0]\n",
      " ...\n",
      " [0 0 0 ... 0 1 1]\n",
      " [0 0 0 ... 0 1 1]\n",
      " [0 0 1 ... 1 0 0]]\n",
      "Denoised signal : [[0 0 0 ... 0 1 1]\n",
      " [1 0 0 ... 1 0 1]\n",
      " [1 1 0 ... 0 0 0]\n",
      " ...\n",
      " [0 0 0 ... 0 1 1]\n",
      " [0 0 0 ... 0 1 1]\n",
      " [0 0 1 ... 1 0 0]]\n",
      "[[0 0 0 ... 0 1 1]\n",
      " [1 0 0 ... 1 0 1]\n",
      " [1 1 0 ... 0 0 0]\n",
      " ...\n",
      " [0 0 0 ... 0 1 1]\n",
      " [0 0 0 ... 0 1 1]\n",
      " [0 0 1 ... 1 0 0]]\n",
      "Denoised signal : [[0 0 0 ... 0 1 1]\n",
      " [1 0 0 ... 1 0 1]\n",
      " [1 1 0 ... 0 0 0]\n",
      " ...\n",
      " [0 0 0 ... 0 1 1]\n",
      " [0 0 0 ... 0 1 1]\n",
      " [0 0 1 ... 1 0 0]]\n",
      "[[0 0 0 ... 0 1 1]\n",
      " [1 0 0 ... 1 0 1]\n",
      " [1 1 0 ... 0 0 0]\n",
      " ...\n",
      " [0 0 0 ... 0 1 1]\n",
      " [0 0 0 ... 0 1 1]\n",
      " [0 0 1 ... 1 0 0]]\n",
      "Denoised signal : [[0 0 0 ... 0 1 1]\n",
      " [1 0 0 ... 1 0 1]\n",
      " [1 1 0 ... 0 0 0]\n",
      " ...\n",
      " [0 0 0 ... 0 1 1]\n",
      " [0 0 0 ... 0 1 1]\n",
      " [0 0 1 ... 1 0 0]]\n",
      "[[0 0 0 ... 0 1 1]\n",
      " [1 0 0 ... 1 0 1]\n",
      " [1 1 0 ... 0 0 0]\n",
      " ...\n",
      " [0 0 0 ... 0 1 1]\n",
      " [0 0 0 ... 0 1 1]\n",
      " [0 0 1 ... 1 0 0]]\n",
      "Denoised signal : [[0 0 0 ... 0 1 1]\n",
      " [1 0 0 ... 1 0 1]\n",
      " [1 1 0 ... 0 0 0]\n",
      " ...\n",
      " [0 0 0 ... 0 1 1]\n",
      " [0 0 0 ... 0 1 1]\n",
      " [0 0 1 ... 1 0 0]]\n",
      "[[0 0 0 ... 0 1 1]\n",
      " [1 0 0 ... 1 0 1]\n",
      " [1 1 0 ... 0 0 0]\n",
      " ...\n",
      " [0 0 0 ... 0 1 1]\n",
      " [0 0 0 ... 0 1 1]\n",
      " [0 0 1 ... 1 0 0]]\n"
     ]
    }
   ],
   "source": [
    "error = [None]*len(SNR)\n",
    "for l in range(len(SNR)):\n",
    "    sigma = 10**(-SNR[l]/20)\n",
    "    nk = n1*7\n",
    "    randNoiseBinList = lambda nk: [random.gauss(0,sigma) for b in range(1,nk+1)]\n",
    "    noise = np.array([num for num in randNoiseBinList(nk)]).reshape((n//4,7)).transpose()#7xk\n",
    "    y = s + noise  #7xk\n",
    "    \n",
    "    print(\"Noisy signal :\", y)\n",
    "    \n",
    "    # bpsk mapping converting -ve bits to 0 and +ve to 1\n",
    "    y = y >0\n",
    "                \n",
    "    # convert decimal form to int\n",
    "    y = np.int64(y)\n",
    "\n",
    "    mid = np.matmul(H,y)%2  #3xk\n",
    "    syndrome = mid.transpose()%2#kx3\n",
    "    final = y.transpose()#kx7\n",
    "\n",
    "#     print(y.transpose()[0])\n",
    "#     print(np.matmul(H,y.transpose()[0])%2)\n",
    "#     print(np.matmul(H,y.transpose()[1])%2)\n",
    "\n",
    "    for i in range(n1):\n",
    "        bit = 4*syndrome[i][0] + 2*syndrome[i][1] + syndrome[i][2]\n",
    "        if(bit == 3):\n",
    "            final[i][bit] = 1 - final[i][bit] #~tran[i][bit]\n",
    "        elif(bit>4 and bit<8):\n",
    "            #not flipping for r5,r6 and r7\n",
    "            final[i][bit-5] = 1^final[i][bit-5]\n",
    "\n",
    "    error[l] = np.sum(np.sum(abs(trans.transpose()-final)))\n",
    "    \n",
    "    print(\"Denoised signal :\", final)\n",
    "    print(trans.transpose())\n",
    "\n",
    "# outbits = list(b.transpose().reshape(n,1))\n",
    "# out=np.array(final).tolist()\n",
    "# print(out)\n",
    "\n",
    "# print(inbits)    \n",
    "    \n",
    "# ber = numpy.linalg.norm(trans.transpose()-final), ord=None, axis=None, keepdims=False) "
   ]
  },
  {
   "cell_type": "code",
   "execution_count": 7,
   "metadata": {},
   "outputs": [
    {
     "name": "stdout",
     "output_type": "stream",
     "text": [
      "No. of error bits: [1038756, 597367, 267296, 86753, 19184, 2348, 104, 1, 0, 0]\n",
      "BPSK bit error rate [ -5.85546446  -8.25818764 -11.75067532 -16.63775489 -23.19120826\n",
      " -32.31361899 -45.85026652 -66.02059991         -inf         -inf]\n",
      "SNR : [0, 2, 4, 6, 8, 10, 12, 14, 16, 18]\n"
     ]
    },
    {
     "name": "stderr",
     "output_type": "stream",
     "text": [
      "/Users/i511980/miniconda3/envs/ml/lib/python3.7/site-packages/ipykernel_launcher.py:3: RuntimeWarning: divide by zero encountered in log10\n",
      "  This is separate from the ipykernel package so we can avoid doing imports until\n"
     ]
    },
    {
     "data": {
      "image/png": "[encoded data removed]",
      "text/plain": [
       "<Figure size 432x288 with 1 Axes>"
      ]
     },
     "metadata": {
      "needs_background": "light"
     },
     "output_type": "display_data"
    }
   ],
   "source": [
    "print(\"No. of error bits:\", error)\n",
    "error = np.divide(error,n)\n",
    "error = 10*np.log10(error)\n",
    "print(\"BPSK bit error rate\", error)\n",
    "print(\"SNR :\", SNR)\n",
    "\n",
    "# plotting the points \n",
    "plt.plot(SNR, error)\n",
    " \n",
    "plt.xlabel('SNR (in dB)')\n",
    "plt.ylabel('BER (Bit Error Rate)')\n",
    "plt.title('BER vs SNR')\n",
    " \n",
    "plt.show()"
   ]
  }
 ],
 "metadata": {
  "kernelspec": {
   "display_name": "Python 3",
   "language": "python",
   "name": "python3"
  },
  "language_info": {
   "codemirror_mode": {
    "name": "ipython",
    "version": 3
   },
   "file_extension": ".py",
   "mimetype": "text/x-python",
   "name": "python",
   "nbconvert_exporter": "python",
   "pygments_lexer": "ipython3",
   "version": "3.7.7"
  }
 },
 "nbformat": 4,
 "nbformat_minor": 2
}
